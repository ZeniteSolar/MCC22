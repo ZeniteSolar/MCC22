{
 "cells": [
  {
   "attachments": {},
   "cell_type": "markdown",
   "metadata": {},
   "source": [
    "![](img/Tsampl.png) ![](img/Tsar.png)\n",
    "\n",
    "![](img/ADC%20timing.png)\n",
    "\n",
    "\n",
    "\n"
   ]
  },
  {
   "cell_type": "code",
   "execution_count": 6,
   "metadata": {},
   "outputs": [
    {
     "name": "stdout",
     "output_type": "stream",
     "text": [
      "Note: you may need to restart the kernel to use updated packages.\n"
     ]
    }
   ],
   "source": [
    "%pip install -q matplotlib sympy scipy pandas"
   ]
  },
  {
   "cell_type": "code",
   "execution_count": 4,
   "metadata": {},
   "outputs": [
    {
     "name": "stdout",
     "output_type": "stream",
     "text": [
      "Tbussy:  0.0001404\n",
      "Tfree:  2.4571428571428704e-06\n",
      "Tfree(%) 1.720000000000009\n",
      "Bit gain 2.5\n",
      "maximum value (oversample):  0x1ffe0\n",
      "maximum value shifted (oversample) 0xfff0\n",
      "========== CONF ==========\n",
      "Resolution:  12\n",
      "Oversampling:  32 x\n",
      "Minimum Bit Shift 1\n",
      "Number of conversion:  7\n",
      "Channel:  Ibat\n",
      "Channel °N:  1\n",
      "Sampling Time:  47.5\n",
      "Channel:  Vbat\n",
      "Channel °N:  8\n",
      "Sampling Time:  47.5\n",
      "Channel:  Vpanel\n",
      "Channel °N:  3\n",
      "Sampling Time:  47.5\n",
      "Channel:  Ipanel\n",
      "Channel °N:  5\n",
      "Sampling Time:  47.5\n",
      "Channel:  TempDiode\n",
      "Channel °N:  9\n",
      "Sampling Time:  24.5\n",
      "Channel:  TempMos\n",
      "Channel °N:  10\n",
      "Sampling Time:  24.5\n",
      "Channel:  Rad\n",
      "Channel °N:  11\n",
      "Sampling Time:  24.5\n"
     ]
    }
   ],
   "source": [
    "import numpy as np\n",
    "\n",
    "#Sample time SMP\n",
    "Tsampl = np.array([2.5, 6.5, 12.5, 24.5, 47.5, 92.5, 247.5, 640.5])\n",
    "\n",
    "channel_conf = {\"Ibat\": {\"channel\" : 1, \"Tsample\" : Tsampl[4], \"Rin\" : 120},\n",
    "                \"Vbat\": {\"channel\" : 8, \"Tsample\" : Tsampl[4], \"Rin\" : 120},\n",
    "                \"Vpanel\": {\"channel\" : 3, \"Tsample\" : Tsampl[4], \"Rin\" : 120},\n",
    "                \"Ipanel\": {\"channel\" : 5, \"Tsample\" : Tsampl[4], \"Rin\" : 120},\n",
    "                \"TempDiode\": {\"channel\" : 9, \"Tsample\" : Tsampl[3], \"Rin\" : 1e3},\n",
    "                \"TempMos\": {\"channel\" : 10, \"Tsample\" : Tsampl[3], \"Rin\" : 1e3},\n",
    "                \"Rad\": {\"channel\" : 11, \"Tsample\" : Tsampl[3], \"Rin\" : 1e3},\n",
    "                }\n",
    "\n",
    "# ADC channel sampling order\n",
    "rank = [\"Ibat\", \"Vbat\", \"Vpanel\", \"Ipanel\", \"TempDiode\", \"TempMos\", \"Rad\"]\n",
    "\n",
    "ADC_Res = \"12\" # ADC Resolution\n",
    "Tsar = {\"12\" : 12.5, \"10\" : 10.5, \"8\" : 8.5, \"6\" : 6.5}     # ADC Resolution time SAR\n",
    "\n",
    "Tadc_clk = 1/80e6 # ADC clock time 1/ADC frequency\n",
    "\n",
    "Trigger = 7e3  # Trigger frequency\n",
    "\n",
    "Cadc = 5e-12    #ADC internal capacitor\n",
    "\n",
    "oversampling_ratio = 32\n",
    "max_value = oversampling_ratio * ((2**12) -1)\n",
    "min_bit_shift = (16, max_value.bit_length())[max_value.bit_length() > 16] - 16\n",
    "max_value_shifted = max_value >> min_bit_shift\n",
    "\n",
    "Tconv = []\n",
    "error = []\n",
    "for channel in rank:\n",
    "    Tconv.append(oversampling_ratio * (Tsar[ADC_Res] + channel_conf[channel][\"Tsample\"]) * Tadc_clk)\n",
    "    # Vo = 1 - exp(-t/RC)\n",
    "    error.append((np.exp(-(Tadc_clk * channel_conf[channel][\"Tsample\"]) / (channel_conf[channel][\"Rin\"] * Cadc))))\n",
    "\n",
    "\n",
    "print(\"Tbussy: \", sum(Tconv))\n",
    "print(\"Tfree: \", (1/Trigger) - sum(Tconv))\n",
    "print(\"Tfree(%)\", 100*((1/Trigger) - sum(Tconv)) / (1/Trigger) )\n",
    "print(\"Bit gain\", np.log(oversampling_ratio) / np.log(4))\n",
    "print(\"maximum value (oversample): \", hex(max_value))\n",
    "print(\"maximum value shifted (oversample)\", hex(max_value_shifted))\n",
    "\n",
    "print(\"========== CONF ==========\")\n",
    "print(\"Resolution: \", ADC_Res)\n",
    "print(\"Oversampling: \", oversampling_ratio, \"x\")\n",
    "print(\"Minimum Bit Shift\", min_bit_shift)\n",
    "print(\"Number of conversion: \", len(rank))\n",
    "for channel in rank:\n",
    "    print(\"Channel: \",channel)\n",
    "    print(\"Channel °N: \", channel_conf[channel][\"channel\"])\n",
    "    print(\"Sampling Time: \", channel_conf[channel][\"Tsample\"])\n",
    "\n",
    "\n",
    "\n",
    "\n"
   ]
  },
  {
   "attachments": {},
   "cell_type": "markdown",
   "metadata": {},
   "source": [
    "# Fit volatage and current measurments"
   ]
  },
  {
   "cell_type": "code",
   "execution_count": 10,
   "metadata": {},
   "outputs": [
    {
     "data": {
      "image/png": "[encoded data removed]",
      "text/plain": [
       "<Figure size 640x480 with 1 Axes>"
      ]
     },
     "metadata": {},
     "output_type": "display_data"
    },
    {
     "name": "stdout",
     "output_type": "stream",
     "text": [
      "a =  -9.003716642156871e-07 +/- 2.3248934520140926e-07\n",
      "b =  0.004138769826442996 +/- 8.36126849955275e-05\n",
      "c =  0.5674618947765167 +/- 0.00557208823281369\n"
     ]
    }
   ],
   "source": [
    "import scipy as sci\n",
    "import pandas as pd\n",
    "# Plot\n",
    "import matplotlib.pyplot as plt\n",
    "\n",
    "def f(x, a, b, c):\n",
    "    return (a * (x ** 2)) + (b * x) + c\n",
    "\n",
    "# Read data\n",
    "#df = pd.read_csv('current_panel.csv')\n",
    "df = pd.read_csv('current_battery copy.csv')\n",
    "\n",
    "# Fit\n",
    "popt, pcov = sci.optimize.curve_fit(f, df.adc, df.measurement)\n",
    "\n",
    "# Plot\n",
    "plt.plot(df.adc, df.measurement, 'o', label='data')\n",
    "plt.plot(df.adc, f(df.adc, *popt), 'r-', label='fit')\n",
    "plt.legend()\n",
    "plt.show()\n",
    "\n",
    "print(\"a = \", popt[0], \"+/-\", pcov[0,0]**0.5)\n",
    "\n",
    "print(\"b = \", popt[1], \"+/-\", pcov[1,1]**0.5)\n",
    "\n",
    "print(\"c = \", popt[2], \"+/-\", pcov[2,2]**0.5)\n"
   ]
  },
  {
   "attachments": {},
   "cell_type": "markdown",
   "metadata": {},
   "source": [
    "# Modeling NTC temperature sensor"
   ]
  },
  {
   "cell_type": "code",
   "execution_count": 59,
   "metadata": {},
   "outputs": [
    {
     "name": "stdout",
     "output_type": "stream",
     "text": [
      "Temp:  3950/log(56.7141957303391*r)\n",
      "Vout:  Eq(3.3*r/(r + 10000.0), vout)\n",
      "R:  -100000.0*vout/(10.0*vout - 33.0)\n",
      "Temp(vout):  3950/log(-5671419.57303391*vout/(10.0*vout - 33.0))\n",
      "Temperature when vin / 2 (should be to) 24.9999999999999\n"
     ]
    }
   ],
   "source": [
    "# Sympy\n",
    "import sympy as sym\n",
    "\n",
    "\n",
    "vi = 3.3\n",
    "ri = 10e3\n",
    "\n",
    "# Sunlord SDNT2012X103F3950FTF \n",
    "\n",
    "rto = 10e3\n",
    "to = 25 + 273.15\n",
    "b = 3950\n",
    "\n",
    "r = sym.Symbol('r')\n",
    "t = sym.Symbol('t')\n",
    "\n",
    "# Steinhart–Hart equation for B parameter equation\n",
    "\n",
    "r_inf = rto * sym.exp(-b / to)\n",
    "temp = b / sym.ln(r / r_inf)\n",
    "\n",
    "print(\"Temp: \", temp)\n",
    "\n",
    "# lambdify function\n",
    "f = sym.lambdify(r, temp, modules=['numpy'])\n",
    "\n",
    "# Voltage divider\n",
    "vout = sym.Symbol('vout')\n",
    "eq_vout = sym.Eq(vi * (r / (r + ri)), vout)\n",
    "print(\"Vout: \", eq_vout)\n",
    "\n",
    "# Solve for r\n",
    "r_eq = sym.solve(eq_vout, r)\n",
    "print(\"R: \", r_eq[0])\n",
    "temp = temp.subs(r, r_eq[0])\n",
    "print(\"Temp(vout): \", temp)\n",
    "print(\"Temperature when vin / 2 (should be to)\", temp.subs(vout, 3.3 / 2) - 273.15)\n",
    "\n",
    "\n"
   ]
  },
  {
   "attachments": {},
   "cell_type": "markdown",
   "metadata": {},
   "source": [
    "## Compare with datasheet"
   ]
  },
  {
   "cell_type": "code",
   "execution_count": 41,
   "metadata": {},
   "outputs": [
    {
     "data": {
      "text/html": [
       "<div>\n",
       "<style scoped>\n",
       "    .dataframe tbody tr th:only-of-type {\n",
       "        vertical-align: middle;\n",
       "    }\n",
       "\n",
       "    .dataframe tbody tr th {\n",
       "        vertical-align: top;\n",
       "    }\n",
       "\n",
       "    .dataframe thead th {\n",
       "        text-align: right;\n",
       "    }\n",
       "</style>\n",
       "<table border=\"1\" class=\"dataframe\">\n",
       "  <thead>\n",
       "    <tr style=\"text-align: right;\">\n",
       "      <th></th>\n",
       "      <th>temperature</th>\n",
       "      <th>resistance</th>\n",
       "    </tr>\n",
       "  </thead>\n",
       "  <tbody>\n",
       "    <tr>\n",
       "      <th>0</th>\n",
       "      <td>-30</td>\n",
       "      <td>181.125</td>\n",
       "    </tr>\n",
       "    <tr>\n",
       "      <th>1</th>\n",
       "      <td>-20</td>\n",
       "      <td>98.181</td>\n",
       "    </tr>\n",
       "    <tr>\n",
       "      <th>2</th>\n",
       "      <td>-10</td>\n",
       "      <td>56.273</td>\n",
       "    </tr>\n",
       "    <tr>\n",
       "      <th>3</th>\n",
       "      <td>0</td>\n",
       "      <td>32.178</td>\n",
       "    </tr>\n",
       "    <tr>\n",
       "      <th>4</th>\n",
       "      <td>10</td>\n",
       "      <td>18.342</td>\n",
       "    </tr>\n",
       "    <tr>\n",
       "      <th>5</th>\n",
       "      <td>20</td>\n",
       "      <td>11.678</td>\n",
       "    </tr>\n",
       "    <tr>\n",
       "      <th>6</th>\n",
       "      <td>30</td>\n",
       "      <td>7.837</td>\n",
       "    </tr>\n",
       "    <tr>\n",
       "      <th>7</th>\n",
       "      <td>40</td>\n",
       "      <td>4.874</td>\n",
       "    </tr>\n",
       "    <tr>\n",
       "      <th>8</th>\n",
       "      <td>50</td>\n",
       "      <td>3.471</td>\n",
       "    </tr>\n",
       "    <tr>\n",
       "      <th>9</th>\n",
       "      <td>60</td>\n",
       "      <td>2.346</td>\n",
       "    </tr>\n",
       "    <tr>\n",
       "      <th>10</th>\n",
       "      <td>70</td>\n",
       "      <td>1.596</td>\n",
       "    </tr>\n",
       "    <tr>\n",
       "      <th>11</th>\n",
       "      <td>80</td>\n",
       "      <td>1.146</td>\n",
       "    </tr>\n",
       "    <tr>\n",
       "      <th>12</th>\n",
       "      <td>90</td>\n",
       "      <td>0.855</td>\n",
       "    </tr>\n",
       "    <tr>\n",
       "      <th>13</th>\n",
       "      <td>100</td>\n",
       "      <td>0.654</td>\n",
       "    </tr>\n",
       "    <tr>\n",
       "      <th>14</th>\n",
       "      <td>110</td>\n",
       "      <td>0.513</td>\n",
       "    </tr>\n",
       "    <tr>\n",
       "      <th>15</th>\n",
       "      <td>120</td>\n",
       "      <td>0.412</td>\n",
       "    </tr>\n",
       "  </tbody>\n",
       "</table>\n",
       "</div>"
      ],
      "text/plain": [
       "    temperature  resistance\n",
       "0           -30     181.125\n",
       "1           -20      98.181\n",
       "2           -10      56.273\n",
       "3             0      32.178\n",
       "4            10      18.342\n",
       "5            20      11.678\n",
       "6            30       7.837\n",
       "7            40       4.874\n",
       "8            50       3.471\n",
       "9            60       2.346\n",
       "10           70       1.596\n",
       "11           80       1.146\n",
       "12           90       0.855\n",
       "13          100       0.654\n",
       "14          110       0.513\n",
       "15          120       0.412"
      ]
     },
     "metadata": {},
     "output_type": "display_data"
    },
    {
     "name": "stderr",
     "output_type": "stream",
     "text": [
      "/home/alejopm/Documents/zenite/MCC22/design/.venv/lib/python3.11/site-packages/pandas/core/arraylike.py:396: RuntimeWarning: invalid value encountered in log\n",
      "  result = getattr(ufunc, method)(*inputs, **kwargs)\n"
     ]
    },
    {
     "data": {
      "image/png": "[encoded data removed]",
      "text/plain": [
       "<Figure size 640x480 with 1 Axes>"
      ]
     },
     "metadata": {},
     "output_type": "display_data"
    },
    {
     "name": "stdout",
     "output_type": "stream",
     "text": [
      "r_inf =  55.603943493321225 +/- 0.0012516558569682886\n",
      "b =  3924.233897461457 +/- 23.259425538559274\n"
     ]
    }
   ],
   "source": [
    "def kelvin2celsius(T):\n",
    "\treturn T - 273.15\n",
    "\n",
    "def celsius2kelvin(T):\n",
    "\treturn T + 273.15\n",
    "\n",
    "def ohm2kohm(R):\n",
    "\treturn R / 1e3\n",
    "\n",
    "def kohm2ohm(R):\n",
    "\treturn R * 1e3\n",
    "\n",
    "import scipy as sci\n",
    "import pandas as pd\n",
    "\n",
    "# Function to calculate the temperature\n",
    "def temp(r, r_inf, b):\n",
    "    return b / np.log(r / r_inf)\n",
    "\n",
    "# load data\n",
    "df = pd.read_csv('temp_sensor_datasheet.csv')\n",
    "display(df)\n",
    "\n",
    "# converting values\n",
    "df['resistance'] = df['resistance'] * 1e3\n",
    "df['temperature'] = df['temperature'] + 273.15\n",
    "\n",
    "# Fit\n",
    "popt, pcov = sci.optimize.curve_fit(temp, df.resistance, df.temperature)\n",
    "\n",
    "\n",
    "\n",
    "# Plot\n",
    "plt.plot(kelvin2celsius(df.temperature), ohm2kohm(df.resistance), 'o', label='data')\n",
    "plt.plot(kelvin2celsius(temp(df.resistance, *popt)), ohm2kohm(df.resistance), 'r-', label='fit')\n",
    "plt.plot(kelvin2celsius(f(df.resistance)), ohm2kohm(df.resistance), 'g-', label='fit_datasheet')\n",
    "\n",
    "# Log scale\n",
    "plt.yscale('log')\n",
    "plt.ylabel('Temperature (°C)')\n",
    "plt.xlabel('Resistance (kOhm)')\n",
    "# Configure grid for log scale\n",
    "plt.grid(True, which=\"both\", ls=\"-\")\n",
    "\n",
    "\n",
    "plt.legend()\n",
    "plt.show()\n",
    "\n",
    "print(\"r_inf = \", 1/popt[0], \"+/-\", pcov[0,0]**0.5)\n",
    "print(\"b = \", popt[1], \"+/-\", pcov[1,1]**0.5)\n",
    "\n"
   ]
  },
  {
   "attachments": {},
   "cell_type": "markdown",
   "metadata": {},
   "source": [
    "24.8\n"
   ]
  },
  {
   "attachments": {},
   "cell_type": "markdown",
   "metadata": {},
   "source": [
    "# Current sensor"
   ]
  },
  {
   "cell_type": "code",
   "execution_count": 63,
   "metadata": {},
   "outputs": [
    {
     "data": {
      "image/png": "[encoded data removed]",
      "text/plain": [
       "<Figure size 640x480 with 1 Axes>"
      ]
     },
     "metadata": {},
     "output_type": "display_data"
    },
    {
     "name": "stdout",
     "output_type": "stream",
     "text": [
      "a =  1.7053928645698802e-05 +/- 1.2446293743546103e-06\n",
      "b =  -0.3585462948924841 +/- 0.0783522797521695\n"
     ]
    }
   ],
   "source": [
    "import scipy as sci\n",
    "import pandas as pd\n",
    "# Plot\n",
    "import matplotlib.pyplot as plt\n",
    "\n",
    "def f(x, a, b):\n",
    "    return (a * x) + b\n",
    "\n",
    "# Read data\n",
    "df = pd.read_csv('current_battery.csv')\n",
    "# was measured voltage in the resistance of 24.8 Ohm\n",
    "df.measurement = df.measurement / 24.8\n",
    "# Fit\n",
    "popt, pcov = sci.optimize.curve_fit(f, df.adc, df.measurement)\n",
    "\n",
    "# Plot\n",
    "plt.plot(df.adc, df.measurement, 'o', label='data')\n",
    "plt.plot(df.adc, f(df.adc, *popt), 'r-', label='fit')\n",
    "plt.legend()\n",
    "plt.show()\n",
    "\n",
    "print(\"a = \", popt[0], \"+/-\", pcov[0,0]**0.5)\n",
    "\n",
    "print(\"b = \", popt[1], \"+/-\", pcov[1,1]**0.5)"
   ]
  }
 ],
 "metadata": {
  "kernelspec": {
   "display_name": "Python 3.10.8 64-bit",
   "language": "python",
   "name": "python3"
  },
  "language_info": {
   "codemirror_mode": {
    "name": "ipython",
    "version": 3
   },
   "file_extension": ".py",
   "mimetype": "text/x-python",
   "name": "python",
   "nbconvert_exporter": "python",
   "pygments_lexer": "ipython3",
   "version": "3.11.3"
  },
  "orig_nbformat": 4,
  "vscode": {
   "interpreter": {
    "hash": "e7370f93d1d0cde622a1f8e1c04877d8463912d04d973331ad4851f04de6915a"
   }
  }
 },
 "nbformat": 4,
 "nbformat_minor": 2
}
