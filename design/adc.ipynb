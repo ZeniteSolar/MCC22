{
 "cells": [
  {
   "cell_type": "markdown",
   "metadata": {},
   "source": [
    "![](img/Tsampl.png) ![](img/Tsar.png)\n",
    "\n",
    "![](img/ADC%20timing.png)\n",
    "\n",
    "\n",
    "\n"
   ]
  },
  {
   "cell_type": "code",
   "execution_count": 22,
   "metadata": {},
   "outputs": [
    {
     "name": "stdout",
     "output_type": "stream",
     "text": [
      "Tbussy:  0.0001404\n",
      "Tfree:  2.4571428571428704e-06\n",
      "Tfree(%) 1.720000000000009\n",
      "Bit gain 2.5\n",
      "maximum value (oversample):  0x1ffe0\n",
      "maximum value shifted (oversample) 0xfff0\n",
      "========== CONF ==========\n",
      "Resolution:  12\n",
      "Oversampling:  32 x\n",
      "Minimum Bit Shift 1\n",
      "Number of conversion:  7\n",
      "Channel:  Ibat\n",
      "Channel °N:  1\n",
      "Sampling Time:  47.5\n",
      "Channel:  Vbat\n",
      "Channel °N:  8\n",
      "Sampling Time:  47.5\n",
      "Channel:  Vpanel\n",
      "Channel °N:  3\n",
      "Sampling Time:  47.5\n",
      "Channel:  Ipanel\n",
      "Channel °N:  5\n",
      "Sampling Time:  47.5\n",
      "Channel:  TempDiode\n",
      "Channel °N:  9\n",
      "Sampling Time:  24.5\n",
      "Channel:  TempMos\n",
      "Channel °N:  10\n",
      "Sampling Time:  24.5\n",
      "Channel:  Rad\n",
      "Channel °N:  11\n",
      "Sampling Time:  24.5\n"
     ]
    }
   ],
   "source": [
    "import numpy as np\n",
    "\n",
    "#Sample time SMP\n",
    "Tsampl = np.array([2.5, 6.5, 12.5, 24.5, 47.5, 92.5, 247.5, 640.5])\n",
    "\n",
    "channel_conf = {\"Ibat\": {\"channel\" : 1, \"Tsample\" : Tsampl[4], \"Rin\" : 120},\n",
    "                \"Vbat\": {\"channel\" : 8, \"Tsample\" : Tsampl[4], \"Rin\" : 120},\n",
    "                \"Vpanel\": {\"channel\" : 3, \"Tsample\" : Tsampl[4], \"Rin\" : 120},\n",
    "                \"Ipanel\": {\"channel\" : 5, \"Tsample\" : Tsampl[4], \"Rin\" : 120},\n",
    "                \"TempDiode\": {\"channel\" : 9, \"Tsample\" : Tsampl[3], \"Rin\" : 1e3},\n",
    "                \"TempMos\": {\"channel\" : 10, \"Tsample\" : Tsampl[3], \"Rin\" : 1e3},\n",
    "                \"Rad\": {\"channel\" : 11, \"Tsample\" : Tsampl[3], \"Rin\" : 1e3},\n",
    "                }\n",
    "\n",
    "# ADC channel sampling order\n",
    "rank = [\"Ibat\", \"Vbat\", \"Vpanel\", \"Ipanel\", \"TempDiode\", \"TempMos\", \"Rad\"]\n",
    "\n",
    "ADC_Res = \"12\" # ADC Resolution\n",
    "Tsar = {\"12\" : 12.5, \"10\" : 10.5, \"8\" : 8.5, \"6\" : 6.5}     # ADC Resolution time SAR\n",
    "\n",
    "Tadc_clk = 1/80e6 # ADC clock time 1/ADC frequency\n",
    "\n",
    "Trigger = 7e3  # Trigger frequency\n",
    "\n",
    "Cadc = 5e-12    #ADC internal capacitor\n",
    "\n",
    "oversampling_ratio = 32\n",
    "max_value = oversampling_ratio * ((2**12) -1)\n",
    "min_bit_shift = max_value.bit_length() - 16\n",
    "max_value_shifted = max_value >> min_bit_shift\n",
    "\n",
    "Tconv = []\n",
    "error = []\n",
    "for channel in rank:\n",
    "    Tconv.append(oversampling_ratio * (Tsar[ADC_Res] + channel_conf[channel][\"Tsample\"]) * Tadc_clk)\n",
    "    # Vo = 1 - exp(-t/RC)\n",
    "    error.append((np.exp(-(Tadc_clk * channel_conf[channel][\"Tsample\"]) / (channel_conf[channel][\"Rin\"] * Cadc))))\n",
    "\n",
    "\n",
    "print(\"Tbussy: \", sum(Tconv))\n",
    "print(\"Tfree: \", (1/Trigger) - sum(Tconv))\n",
    "print(\"Tfree(%)\", 100*((1/Trigger) - sum(Tconv)) / (1/Trigger) )\n",
    "print(\"Bit gain\", np.log(oversampling_ratio) / np.log(4))\n",
    "print(\"maximum value (oversample): \", hex(max_value))\n",
    "print(\"maximum value shifted (oversample)\", hex(max_value_shifted))\n",
    "\n",
    "print(\"========== CONF ==========\")\n",
    "print(\"Resolution: \", ADC_Res)\n",
    "print(\"Oversampling: \", oversampling_ratio, \"x\")\n",
    "print(\"Minimum Bit Shift\", min_bit_shift)\n",
    "print(\"Number of conversion: \", len(rank))\n",
    "for channel in rank:\n",
    "    print(\"Channel: \",channel)\n",
    "    print(\"Channel °N: \", channel_conf[channel][\"channel\"])\n",
    "    print(\"Sampling Time: \", channel_conf[channel][\"Tsample\"])\n",
    "\n",
    "\n",
    "\n",
    "\n"
   ]
  }
 ],
 "metadata": {
  "kernelspec": {
   "display_name": "Python 3.10.8 64-bit",
   "language": "python",
   "name": "python3"
  },
  "language_info": {
   "codemirror_mode": {
    "name": "ipython",
    "version": 3
   },
   "file_extension": ".py",
   "mimetype": "text/x-python",
   "name": "python",
   "nbconvert_exporter": "python",
   "pygments_lexer": "ipython3",
   "version": "3.10.8"
  },
  "orig_nbformat": 4,
  "vscode": {
   "interpreter": {
    "hash": "e7370f93d1d0cde622a1f8e1c04877d8463912d04d973331ad4851f04de6915a"
   }
  }
 },
 "nbformat": 4,
 "nbformat_minor": 2
}
